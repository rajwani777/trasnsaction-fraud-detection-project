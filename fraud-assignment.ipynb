{
 "cells": [
  {
   "cell_type": "code",
   "execution_count": 1,
   "id": "899e1013",
   "metadata": {
    "execution": {
     "iopub.execute_input": "2022-06-11T08:26:23.233836Z",
     "iopub.status.busy": "2022-06-11T08:26:23.232043Z",
     "iopub.status.idle": "2022-06-11T08:26:24.284337Z",
     "shell.execute_reply": "2022-06-11T08:26:24.284869Z",
     "shell.execute_reply.started": "2022-06-11T08:15:14.016626Z"
    },
    "papermill": {
     "duration": 1.099638,
     "end_time": "2022-06-11T08:26:24.285176",
     "exception": false,
     "start_time": "2022-06-11T08:26:23.185538",
     "status": "completed"
    },
    "tags": []
   },
   "outputs": [],
   "source": [
    "import pandas as pd\n",
    "import numpy as np\n",
    "import matplotlib.pyplot as plt\n",
    "import seaborn as sns\n",
    "from sklearn.linear_model import LogisticRegression\n",
    "from sklearn.preprocessing import MinMaxScaler\n",
    "from sklearn.metrics import accuracy_score\n",
    "from sklearn.model_selection import cross_val_score\n",
    "from sklearn.model_selection import train_test_split\n",
    "from sklearn import metrics\n",
    "from sklearn.metrics import confusion_matrix\n",
    "\n",
    "\n",
    "import warnings\n",
    "warnings.simplefilter('ignore')"
   ]
  },
  {
   "cell_type": "code",
   "execution_count": 2,
   "id": "5f248ee9",
   "metadata": {
    "execution": {
     "iopub.execute_input": "2022-06-11T08:26:24.393374Z",
     "iopub.status.busy": "2022-06-11T08:26:24.392382Z",
     "iopub.status.idle": "2022-06-11T08:26:43.354728Z",
     "shell.execute_reply": "2022-06-11T08:26:43.354132Z",
     "shell.execute_reply.started": "2022-06-11T08:15:15.184710Z"
    },
    "papermill": {
     "duration": 19.023434,
     "end_time": "2022-06-11T08:26:43.354886",
     "exception": false,
     "start_time": "2022-06-11T08:26:24.331452",
     "status": "completed"
    },
    "tags": []
   },
   "outputs": [],
   "source": [
    "data = pd.read_csv('../input/fraud-dataaa/Fraud.csv')"
   ]
  },
  {
   "cell_type": "code",
   "execution_count": 3,
   "id": "061ec93d",
   "metadata": {
    "execution": {
     "iopub.execute_input": "2022-06-11T08:26:43.445310Z",
     "iopub.status.busy": "2022-06-11T08:26:43.444573Z",
     "iopub.status.idle": "2022-06-11T08:26:43.465969Z",
     "shell.execute_reply": "2022-06-11T08:26:43.465412Z",
     "shell.execute_reply.started": "2022-06-11T08:15:34.942595Z"
    },
    "papermill": {
     "duration": 0.070357,
     "end_time": "2022-06-11T08:26:43.466123",
     "exception": false,
     "start_time": "2022-06-11T08:26:43.395766",
     "status": "completed"
    },
    "scrolled": true,
    "tags": []
   },
   "outputs": [
    {
     "data": {
      "text/html": [
       "<div>\n",
       "<style scoped>\n",
       "    .dataframe tbody tr th:only-of-type {\n",
       "        vertical-align: middle;\n",
       "    }\n",
       "\n",
       "    .dataframe tbody tr th {\n",
       "        vertical-align: top;\n",
       "    }\n",
       "\n",
       "    .dataframe thead th {\n",
       "        text-align: right;\n",
       "    }\n",
       "</style>\n",
       "<table border=\"1\" class=\"dataframe\">\n",
       "  <thead>\n",
       "    <tr style=\"text-align: right;\">\n",
       "      <th></th>\n",
       "      <th>step</th>\n",
       "      <th>type</th>\n",
       "      <th>amount</th>\n",
       "      <th>nameOrig</th>\n",
       "      <th>oldbalanceOrg</th>\n",
       "      <th>newbalanceOrig</th>\n",
       "      <th>nameDest</th>\n",
       "      <th>oldbalanceDest</th>\n",
       "      <th>newbalanceDest</th>\n",
       "      <th>isFraud</th>\n",
       "      <th>isFlaggedFraud</th>\n",
       "    </tr>\n",
       "  </thead>\n",
       "  <tbody>\n",
       "    <tr>\n",
       "      <th>0</th>\n",
       "      <td>1</td>\n",
       "      <td>PAYMENT</td>\n",
       "      <td>9839.64</td>\n",
       "      <td>C1231006815</td>\n",
       "      <td>170136.0</td>\n",
       "      <td>160296.36</td>\n",
       "      <td>M1979787155</td>\n",
       "      <td>0.0</td>\n",
       "      <td>0.0</td>\n",
       "      <td>0</td>\n",
       "      <td>0</td>\n",
       "    </tr>\n",
       "    <tr>\n",
       "      <th>1</th>\n",
       "      <td>1</td>\n",
       "      <td>PAYMENT</td>\n",
       "      <td>1864.28</td>\n",
       "      <td>C1666544295</td>\n",
       "      <td>21249.0</td>\n",
       "      <td>19384.72</td>\n",
       "      <td>M2044282225</td>\n",
       "      <td>0.0</td>\n",
       "      <td>0.0</td>\n",
       "      <td>0</td>\n",
       "      <td>0</td>\n",
       "    </tr>\n",
       "    <tr>\n",
       "      <th>2</th>\n",
       "      <td>1</td>\n",
       "      <td>TRANSFER</td>\n",
       "      <td>181.00</td>\n",
       "      <td>C1305486145</td>\n",
       "      <td>181.0</td>\n",
       "      <td>0.00</td>\n",
       "      <td>C553264065</td>\n",
       "      <td>0.0</td>\n",
       "      <td>0.0</td>\n",
       "      <td>1</td>\n",
       "      <td>0</td>\n",
       "    </tr>\n",
       "    <tr>\n",
       "      <th>3</th>\n",
       "      <td>1</td>\n",
       "      <td>CASH_OUT</td>\n",
       "      <td>181.00</td>\n",
       "      <td>C840083671</td>\n",
       "      <td>181.0</td>\n",
       "      <td>0.00</td>\n",
       "      <td>C38997010</td>\n",
       "      <td>21182.0</td>\n",
       "      <td>0.0</td>\n",
       "      <td>1</td>\n",
       "      <td>0</td>\n",
       "    </tr>\n",
       "    <tr>\n",
       "      <th>4</th>\n",
       "      <td>1</td>\n",
       "      <td>PAYMENT</td>\n",
       "      <td>11668.14</td>\n",
       "      <td>C2048537720</td>\n",
       "      <td>41554.0</td>\n",
       "      <td>29885.86</td>\n",
       "      <td>M1230701703</td>\n",
       "      <td>0.0</td>\n",
       "      <td>0.0</td>\n",
       "      <td>0</td>\n",
       "      <td>0</td>\n",
       "    </tr>\n",
       "  </tbody>\n",
       "</table>\n",
       "</div>"
      ],
      "text/plain": [
       "   step      type    amount     nameOrig  oldbalanceOrg  newbalanceOrig  \\\n",
       "0     1   PAYMENT   9839.64  C1231006815       170136.0       160296.36   \n",
       "1     1   PAYMENT   1864.28  C1666544295        21249.0        19384.72   \n",
       "2     1  TRANSFER    181.00  C1305486145          181.0            0.00   \n",
       "3     1  CASH_OUT    181.00   C840083671          181.0            0.00   \n",
       "4     1   PAYMENT  11668.14  C2048537720        41554.0        29885.86   \n",
       "\n",
       "      nameDest  oldbalanceDest  newbalanceDest  isFraud  isFlaggedFraud  \n",
       "0  M1979787155             0.0             0.0        0               0  \n",
       "1  M2044282225             0.0             0.0        0               0  \n",
       "2   C553264065             0.0             0.0        1               0  \n",
       "3    C38997010         21182.0             0.0        1               0  \n",
       "4  M1230701703             0.0             0.0        0               0  "
      ]
     },
     "execution_count": 3,
     "metadata": {},
     "output_type": "execute_result"
    }
   ],
   "source": [
    "data.head()"
   ]
  },
  {
   "cell_type": "code",
   "execution_count": 4,
   "id": "b2bcc9cf",
   "metadata": {
    "execution": {
     "iopub.execute_input": "2022-06-11T08:26:43.567921Z",
     "iopub.status.busy": "2022-06-11T08:26:43.558595Z",
     "iopub.status.idle": "2022-06-11T08:26:43.573808Z",
     "shell.execute_reply": "2022-06-11T08:26:43.574812Z",
     "shell.execute_reply.started": "2022-06-11T08:15:34.973978Z"
    },
    "papermill": {
     "duration": 0.066405,
     "end_time": "2022-06-11T08:26:43.575072",
     "exception": false,
     "start_time": "2022-06-11T08:26:43.508667",
     "status": "completed"
    },
    "tags": []
   },
   "outputs": [
    {
     "name": "stdout",
     "output_type": "stream",
     "text": [
      "<class 'pandas.core.frame.DataFrame'>\n",
      "RangeIndex: 6362620 entries, 0 to 6362619\n",
      "Data columns (total 11 columns):\n",
      " #   Column          Dtype  \n",
      "---  ------          -----  \n",
      " 0   step            int64  \n",
      " 1   type            object \n",
      " 2   amount          float64\n",
      " 3   nameOrig        object \n",
      " 4   oldbalanceOrg   float64\n",
      " 5   newbalanceOrig  float64\n",
      " 6   nameDest        object \n",
      " 7   oldbalanceDest  float64\n",
      " 8   newbalanceDest  float64\n",
      " 9   isFraud         int64  \n",
      " 10  isFlaggedFraud  int64  \n",
      "dtypes: float64(5), int64(3), object(3)\n",
      "memory usage: 534.0+ MB\n"
     ]
    }
   ],
   "source": [
    "data.info()"
   ]
  },
  {
   "cell_type": "code",
   "execution_count": 5,
   "id": "d7971dc4",
   "metadata": {
    "execution": {
     "iopub.execute_input": "2022-06-11T08:26:43.665845Z",
     "iopub.status.busy": "2022-06-11T08:26:43.665108Z",
     "iopub.status.idle": "2022-06-11T08:26:43.766158Z",
     "shell.execute_reply": "2022-06-11T08:26:43.765594Z",
     "shell.execute_reply.started": "2022-06-11T08:15:34.996511Z"
    },
    "papermill": {
     "duration": 0.148689,
     "end_time": "2022-06-11T08:26:43.766328",
     "exception": false,
     "start_time": "2022-06-11T08:26:43.617639",
     "status": "completed"
    },
    "tags": []
   },
   "outputs": [],
   "source": [
    "data['step']=data['step'].astype('int32')\n",
    "data['isFraud']=data['isFraud'].astype('int32')\n",
    "data['isFlaggedFraud']=data['isFlaggedFraud'].astype('int32')\n",
    "\n",
    "#so that we can get small sized data"
   ]
  },
  {
   "cell_type": "code",
   "execution_count": 6,
   "id": "be44b48d",
   "metadata": {
    "execution": {
     "iopub.execute_input": "2022-06-11T08:26:43.856588Z",
     "iopub.status.busy": "2022-06-11T08:26:43.855500Z",
     "iopub.status.idle": "2022-06-11T08:26:43.863845Z",
     "shell.execute_reply": "2022-06-11T08:26:43.864416Z",
     "shell.execute_reply.started": "2022-06-11T08:15:35.103633Z"
    },
    "papermill": {
     "duration": 0.056822,
     "end_time": "2022-06-11T08:26:43.864602",
     "exception": false,
     "start_time": "2022-06-11T08:26:43.807780",
     "status": "completed"
    },
    "tags": []
   },
   "outputs": [
    {
     "name": "stdout",
     "output_type": "stream",
     "text": [
      "<class 'pandas.core.frame.DataFrame'>\n",
      "RangeIndex: 6362620 entries, 0 to 6362619\n",
      "Data columns (total 11 columns):\n",
      " #   Column          Dtype  \n",
      "---  ------          -----  \n",
      " 0   step            int32  \n",
      " 1   type            object \n",
      " 2   amount          float64\n",
      " 3   nameOrig        object \n",
      " 4   oldbalanceOrg   float64\n",
      " 5   newbalanceOrig  float64\n",
      " 6   nameDest        object \n",
      " 7   oldbalanceDest  float64\n",
      " 8   newbalanceDest  float64\n",
      " 9   isFraud         int32  \n",
      " 10  isFlaggedFraud  int32  \n",
      "dtypes: float64(5), int32(3), object(3)\n",
      "memory usage: 461.2+ MB\n"
     ]
    }
   ],
   "source": [
    "data.info()"
   ]
  },
  {
   "cell_type": "code",
   "execution_count": 7,
   "id": "46e83c6e",
   "metadata": {
    "execution": {
     "iopub.execute_input": "2022-06-11T08:26:43.955148Z",
     "iopub.status.busy": "2022-06-11T08:26:43.954433Z",
     "iopub.status.idle": "2022-06-11T08:26:45.548693Z",
     "shell.execute_reply": "2022-06-11T08:26:45.548141Z",
     "shell.execute_reply.started": "2022-06-11T08:15:35.116571Z"
    },
    "papermill": {
     "duration": 1.6421,
     "end_time": "2022-06-11T08:26:45.548841",
     "exception": false,
     "start_time": "2022-06-11T08:26:43.906741",
     "status": "completed"
    },
    "tags": []
   },
   "outputs": [
    {
     "data": {
      "text/html": [
       "<div>\n",
       "<style scoped>\n",
       "    .dataframe tbody tr th:only-of-type {\n",
       "        vertical-align: middle;\n",
       "    }\n",
       "\n",
       "    .dataframe tbody tr th {\n",
       "        vertical-align: top;\n",
       "    }\n",
       "\n",
       "    .dataframe thead th {\n",
       "        text-align: right;\n",
       "    }\n",
       "</style>\n",
       "<table border=\"1\" class=\"dataframe\">\n",
       "  <thead>\n",
       "    <tr style=\"text-align: right;\">\n",
       "      <th></th>\n",
       "      <th>step</th>\n",
       "      <th>amount</th>\n",
       "      <th>oldbalanceOrg</th>\n",
       "      <th>newbalanceOrig</th>\n",
       "      <th>oldbalanceDest</th>\n",
       "      <th>newbalanceDest</th>\n",
       "      <th>isFraud</th>\n",
       "      <th>isFlaggedFraud</th>\n",
       "    </tr>\n",
       "  </thead>\n",
       "  <tbody>\n",
       "    <tr>\n",
       "      <th>count</th>\n",
       "      <td>6.362620e+06</td>\n",
       "      <td>6.362620e+06</td>\n",
       "      <td>6.362620e+06</td>\n",
       "      <td>6.362620e+06</td>\n",
       "      <td>6.362620e+06</td>\n",
       "      <td>6.362620e+06</td>\n",
       "      <td>6.362620e+06</td>\n",
       "      <td>6.362620e+06</td>\n",
       "    </tr>\n",
       "    <tr>\n",
       "      <th>mean</th>\n",
       "      <td>2.433972e+02</td>\n",
       "      <td>1.798619e+05</td>\n",
       "      <td>8.338831e+05</td>\n",
       "      <td>8.551137e+05</td>\n",
       "      <td>1.100702e+06</td>\n",
       "      <td>1.224996e+06</td>\n",
       "      <td>1.290820e-03</td>\n",
       "      <td>2.514687e-06</td>\n",
       "    </tr>\n",
       "    <tr>\n",
       "      <th>std</th>\n",
       "      <td>1.423320e+02</td>\n",
       "      <td>6.038582e+05</td>\n",
       "      <td>2.888243e+06</td>\n",
       "      <td>2.924049e+06</td>\n",
       "      <td>3.399180e+06</td>\n",
       "      <td>3.674129e+06</td>\n",
       "      <td>3.590480e-02</td>\n",
       "      <td>1.585775e-03</td>\n",
       "    </tr>\n",
       "    <tr>\n",
       "      <th>min</th>\n",
       "      <td>1.000000e+00</td>\n",
       "      <td>0.000000e+00</td>\n",
       "      <td>0.000000e+00</td>\n",
       "      <td>0.000000e+00</td>\n",
       "      <td>0.000000e+00</td>\n",
       "      <td>0.000000e+00</td>\n",
       "      <td>0.000000e+00</td>\n",
       "      <td>0.000000e+00</td>\n",
       "    </tr>\n",
       "    <tr>\n",
       "      <th>25%</th>\n",
       "      <td>1.560000e+02</td>\n",
       "      <td>1.338957e+04</td>\n",
       "      <td>0.000000e+00</td>\n",
       "      <td>0.000000e+00</td>\n",
       "      <td>0.000000e+00</td>\n",
       "      <td>0.000000e+00</td>\n",
       "      <td>0.000000e+00</td>\n",
       "      <td>0.000000e+00</td>\n",
       "    </tr>\n",
       "    <tr>\n",
       "      <th>50%</th>\n",
       "      <td>2.390000e+02</td>\n",
       "      <td>7.487194e+04</td>\n",
       "      <td>1.420800e+04</td>\n",
       "      <td>0.000000e+00</td>\n",
       "      <td>1.327057e+05</td>\n",
       "      <td>2.146614e+05</td>\n",
       "      <td>0.000000e+00</td>\n",
       "      <td>0.000000e+00</td>\n",
       "    </tr>\n",
       "    <tr>\n",
       "      <th>75%</th>\n",
       "      <td>3.350000e+02</td>\n",
       "      <td>2.087215e+05</td>\n",
       "      <td>1.073152e+05</td>\n",
       "      <td>1.442584e+05</td>\n",
       "      <td>9.430367e+05</td>\n",
       "      <td>1.111909e+06</td>\n",
       "      <td>0.000000e+00</td>\n",
       "      <td>0.000000e+00</td>\n",
       "    </tr>\n",
       "    <tr>\n",
       "      <th>max</th>\n",
       "      <td>7.430000e+02</td>\n",
       "      <td>9.244552e+07</td>\n",
       "      <td>5.958504e+07</td>\n",
       "      <td>4.958504e+07</td>\n",
       "      <td>3.560159e+08</td>\n",
       "      <td>3.561793e+08</td>\n",
       "      <td>1.000000e+00</td>\n",
       "      <td>1.000000e+00</td>\n",
       "    </tr>\n",
       "  </tbody>\n",
       "</table>\n",
       "</div>"
      ],
      "text/plain": [
       "               step        amount  oldbalanceOrg  newbalanceOrig  \\\n",
       "count  6.362620e+06  6.362620e+06   6.362620e+06    6.362620e+06   \n",
       "mean   2.433972e+02  1.798619e+05   8.338831e+05    8.551137e+05   \n",
       "std    1.423320e+02  6.038582e+05   2.888243e+06    2.924049e+06   \n",
       "min    1.000000e+00  0.000000e+00   0.000000e+00    0.000000e+00   \n",
       "25%    1.560000e+02  1.338957e+04   0.000000e+00    0.000000e+00   \n",
       "50%    2.390000e+02  7.487194e+04   1.420800e+04    0.000000e+00   \n",
       "75%    3.350000e+02  2.087215e+05   1.073152e+05    1.442584e+05   \n",
       "max    7.430000e+02  9.244552e+07   5.958504e+07    4.958504e+07   \n",
       "\n",
       "       oldbalanceDest  newbalanceDest       isFraud  isFlaggedFraud  \n",
       "count    6.362620e+06    6.362620e+06  6.362620e+06    6.362620e+06  \n",
       "mean     1.100702e+06    1.224996e+06  1.290820e-03    2.514687e-06  \n",
       "std      3.399180e+06    3.674129e+06  3.590480e-02    1.585775e-03  \n",
       "min      0.000000e+00    0.000000e+00  0.000000e+00    0.000000e+00  \n",
       "25%      0.000000e+00    0.000000e+00  0.000000e+00    0.000000e+00  \n",
       "50%      1.327057e+05    2.146614e+05  0.000000e+00    0.000000e+00  \n",
       "75%      9.430367e+05    1.111909e+06  0.000000e+00    0.000000e+00  \n",
       "max      3.560159e+08    3.561793e+08  1.000000e+00    1.000000e+00  "
      ]
     },
     "execution_count": 7,
     "metadata": {},
     "output_type": "execute_result"
    }
   ],
   "source": [
    "data.describe()"
   ]
  },
  {
   "cell_type": "code",
   "execution_count": 8,
   "id": "26727611",
   "metadata": {
    "execution": {
     "iopub.execute_input": "2022-06-11T08:26:45.638889Z",
     "iopub.status.busy": "2022-06-11T08:26:45.638154Z",
     "iopub.status.idle": "2022-06-11T08:26:47.812443Z",
     "shell.execute_reply": "2022-06-11T08:26:47.812980Z",
     "shell.execute_reply.started": "2022-06-11T08:15:36.689709Z"
    },
    "papermill": {
     "duration": 2.221003,
     "end_time": "2022-06-11T08:26:47.813160",
     "exception": false,
     "start_time": "2022-06-11T08:26:45.592157",
     "status": "completed"
    },
    "tags": []
   },
   "outputs": [
    {
     "data": {
      "text/plain": [
       "step              0\n",
       "type              0\n",
       "amount            0\n",
       "nameOrig          0\n",
       "oldbalanceOrg     0\n",
       "newbalanceOrig    0\n",
       "nameDest          0\n",
       "oldbalanceDest    0\n",
       "newbalanceDest    0\n",
       "isFraud           0\n",
       "isFlaggedFraud    0\n",
       "dtype: int64"
      ]
     },
     "execution_count": 8,
     "metadata": {},
     "output_type": "execute_result"
    }
   ],
   "source": [
    "data.isnull().sum()  #checking misssing values"
   ]
  },
  {
   "cell_type": "code",
   "execution_count": 9,
   "id": "17d2d223",
   "metadata": {
    "execution": {
     "iopub.execute_input": "2022-06-11T08:26:47.904838Z",
     "iopub.status.busy": "2022-06-11T08:26:47.904064Z",
     "iopub.status.idle": "2022-06-11T08:26:48.052164Z",
     "shell.execute_reply": "2022-06-11T08:26:48.052723Z",
     "shell.execute_reply.started": "2022-06-11T08:15:38.866532Z"
    },
    "papermill": {
     "duration": 0.195676,
     "end_time": "2022-06-11T08:26:48.052911",
     "exception": false,
     "start_time": "2022-06-11T08:26:47.857235",
     "status": "completed"
    },
    "tags": []
   },
   "outputs": [],
   "source": [
    "data = data.drop(['nameOrig' , \"nameDest\" ],axis =1) # we are going to drop these columns because the name and origins ara large data set and not having much relevance in our model"
   ]
  },
  {
   "cell_type": "code",
   "execution_count": null,
   "id": "b1f4ecb2",
   "metadata": {
    "papermill": {
     "duration": 0.043235,
     "end_time": "2022-06-11T08:26:48.139330",
     "exception": false,
     "start_time": "2022-06-11T08:26:48.096095",
     "status": "completed"
    },
    "tags": []
   },
   "outputs": [],
   "source": []
  },
  {
   "cell_type": "code",
   "execution_count": 10,
   "id": "ad810aa5",
   "metadata": {
    "execution": {
     "iopub.execute_input": "2022-06-11T08:26:48.900532Z",
     "iopub.status.busy": "2022-06-11T08:26:48.899804Z",
     "iopub.status.idle": "2022-06-11T08:26:57.053150Z",
     "shell.execute_reply": "2022-06-11T08:26:57.053665Z",
     "shell.execute_reply.started": "2022-06-11T08:15:39.020166Z"
    },
    "papermill": {
     "duration": 8.870524,
     "end_time": "2022-06-11T08:26:57.053843",
     "exception": false,
     "start_time": "2022-06-11T08:26:48.183319",
     "status": "completed"
    },
    "tags": []
   },
   "outputs": [
    {
     "name": "stdout",
     "output_type": "stream",
     "text": [
      "values\n"
     ]
    },
    {
     "data": {
      "text/plain": [
       "CASH_OUT    2237500\n",
       "PAYMENT     2151495\n",
       "CASH_IN     1399284\n",
       "TRANSFER     532909\n",
       "DEBIT         41432\n",
       "Name: type, dtype: int64"
      ]
     },
     "execution_count": 10,
     "metadata": {},
     "output_type": "execute_result"
    },
    {
     "data": {
      "image/png": "[encoded data removed]",
      "text/plain": [
       "<Figure size 432x288 with 1 Axes>"
      ]
     },
     "metadata": {
      "needs_background": "light"
     },
     "output_type": "display_data"
    }
   ],
   "source": [
    "sns.countplot(data['type'])\n",
    "plt.xlabel(\"types of transactions\")\n",
    "\n",
    "\n",
    "# the most no. of transactions are in payment and cash out while there are comarably less transation in debit method\n",
    "print('values')\n",
    "data['type'].value_counts()"
   ]
  },
  {
   "cell_type": "code",
   "execution_count": 11,
   "id": "8cdc5894",
   "metadata": {
    "execution": {
     "iopub.execute_input": "2022-06-11T08:26:57.197282Z",
     "iopub.status.busy": "2022-06-11T08:26:57.196236Z",
     "iopub.status.idle": "2022-06-11T08:26:57.412562Z",
     "shell.execute_reply": "2022-06-11T08:26:57.413304Z",
     "shell.execute_reply.started": "2022-06-11T08:15:49.273712Z"
    },
    "papermill": {
     "duration": 0.296586,
     "end_time": "2022-06-11T08:26:57.413537",
     "exception": false,
     "start_time": "2022-06-11T08:26:57.116951",
     "status": "completed"
    },
    "tags": []
   },
   "outputs": [
    {
     "name": "stdout",
     "output_type": "stream",
     "text": [
      "normalized no. of value counts\n",
      "0    6354407\n",
      "1       8213\n",
      "Name: isFraud, dtype: int64\n",
      "        log plot\n"
     ]
    },
    {
     "data": {
      "image/png": "[encoded data removed]",
      "text/plain": [
       "<Figure size 432x288 with 1 Axes>"
      ]
     },
     "metadata": {
      "needs_background": "light"
     },
     "output_type": "display_data"
    }
   ],
   "source": [
    "b =np.log(data['isFraud'].value_counts())\n",
    "sns.countplot(b)\n",
    "\n",
    "\n",
    "print('normalized no. of value counts')\n",
    "print(data['isFraud'].value_counts())   # we have very small percentage for fraud transactions\n",
    "print('        log plot')\n"
   ]
  },
  {
   "cell_type": "code",
   "execution_count": 12,
   "id": "c5051776",
   "metadata": {
    "execution": {
     "iopub.execute_input": "2022-06-11T08:26:57.511224Z",
     "iopub.status.busy": "2022-06-11T08:26:57.510480Z",
     "iopub.status.idle": "2022-06-11T08:26:57.514145Z",
     "shell.execute_reply": "2022-06-11T08:26:57.513647Z",
     "shell.execute_reply.started": "2022-06-11T08:15:49.523991Z"
    },
    "papermill": {
     "duration": 0.053965,
     "end_time": "2022-06-11T08:26:57.514299",
     "exception": false,
     "start_time": "2022-06-11T08:26:57.460334",
     "status": "completed"
    },
    "tags": []
   },
   "outputs": [
    {
     "data": {
      "text/plain": [
       "'sns.countplot(data[\\'isFraud\\'])\\nplt.xlabel(\"comparison of frauds\")\\nprint(\\'value counts\\')\\ndata[\\'isFraud\\'].value_counts() '"
      ]
     },
     "execution_count": 12,
     "metadata": {},
     "output_type": "execute_result"
    }
   ],
   "source": [
    "'''sns.countplot(data['isFraud'])\n",
    "plt.xlabel(\"comparison of frauds\")\n",
    "print('value counts')\n",
    "data['isFraud'].value_counts() '''\n",
    "\n",
    "#if you want to see graph in normal values, without log"
   ]
  },
  {
   "cell_type": "code",
   "execution_count": 13,
   "id": "8067790c",
   "metadata": {
    "execution": {
     "iopub.execute_input": "2022-06-11T08:26:57.611599Z",
     "iopub.status.busy": "2022-06-11T08:26:57.610882Z",
     "iopub.status.idle": "2022-06-11T08:26:58.258357Z",
     "shell.execute_reply": "2022-06-11T08:26:58.259014Z",
     "shell.execute_reply.started": "2022-06-11T08:15:49.533121Z"
    },
    "papermill": {
     "duration": 0.698962,
     "end_time": "2022-06-11T08:26:58.259180",
     "exception": false,
     "start_time": "2022-06-11T08:26:57.560218",
     "status": "completed"
    },
    "tags": []
   },
   "outputs": [
    {
     "name": "stdout",
     "output_type": "stream",
     "text": [
      "value counts\n"
     ]
    },
    {
     "data": {
      "text/plain": [
       "0    6362604\n",
       "1         16\n",
       "Name: isFlaggedFraud, dtype: int64"
      ]
     },
     "execution_count": 13,
     "metadata": {},
     "output_type": "execute_result"
    },
    {
     "data": {
      "image/png": "[encoded data removed]",
      "text/plain": [
       "<Figure size 432x288 with 1 Axes>"
      ]
     },
     "metadata": {
      "needs_background": "light"
     },
     "output_type": "display_data"
    }
   ],
   "source": [
    "sns.countplot(data['isFlaggedFraud'])\n",
    "plt.xlabel(\"flagged frauds\")\n",
    "\n",
    "print('value counts')\n",
    "data['isFlaggedFraud'].value_counts()\n",
    "\n",
    "# there is only 0.000251% of flagged fraud values which is negligible for such a huge dataset, thats why i am going to drop this column also"
   ]
  },
  {
   "cell_type": "code",
   "execution_count": 14,
   "id": "b10e4fe7",
   "metadata": {
    "execution": {
     "iopub.execute_input": "2022-06-11T08:26:58.357556Z",
     "iopub.status.busy": "2022-06-11T08:26:58.356833Z",
     "iopub.status.idle": "2022-06-11T08:26:58.546384Z",
     "shell.execute_reply": "2022-06-11T08:26:58.545778Z",
     "shell.execute_reply.started": "2022-06-11T08:15:50.566627Z"
    },
    "papermill": {
     "duration": 0.239734,
     "end_time": "2022-06-11T08:26:58.546524",
     "exception": false,
     "start_time": "2022-06-11T08:26:58.306790",
     "status": "completed"
    },
    "tags": []
   },
   "outputs": [],
   "source": [
    "data = data.drop(['isFlaggedFraud'], axis =1)"
   ]
  },
  {
   "cell_type": "code",
   "execution_count": 15,
   "id": "d1b89040",
   "metadata": {
    "execution": {
     "iopub.execute_input": "2022-06-11T08:26:58.645677Z",
     "iopub.status.busy": "2022-06-11T08:26:58.644989Z",
     "iopub.status.idle": "2022-06-11T08:26:58.647590Z",
     "shell.execute_reply": "2022-06-11T08:26:58.648077Z",
     "shell.execute_reply.started": "2022-06-11T08:15:51.969712Z"
    },
    "papermill": {
     "duration": 0.05443,
     "end_time": "2022-06-11T08:26:58.648267",
     "exception": false,
     "start_time": "2022-06-11T08:26:58.593837",
     "status": "completed"
    },
    "tags": []
   },
   "outputs": [],
   "source": [
    "# visualizing with other columns\n"
   ]
  },
  {
   "cell_type": "code",
   "execution_count": 16,
   "id": "9ba00f35",
   "metadata": {
    "execution": {
     "iopub.execute_input": "2022-06-11T08:26:58.746101Z",
     "iopub.status.busy": "2022-06-11T08:26:58.745448Z",
     "iopub.status.idle": "2022-06-11T08:26:59.976112Z",
     "shell.execute_reply": "2022-06-11T08:26:59.975600Z",
     "shell.execute_reply.started": "2022-06-11T08:15:51.979817Z"
    },
    "papermill": {
     "duration": 1.281018,
     "end_time": "2022-06-11T08:26:59.976266",
     "exception": false,
     "start_time": "2022-06-11T08:26:58.695248",
     "status": "completed"
    },
    "tags": []
   },
   "outputs": [
    {
     "data": {
      "text/html": [
       "<div>\n",
       "<style scoped>\n",
       "    .dataframe tbody tr th:only-of-type {\n",
       "        vertical-align: middle;\n",
       "    }\n",
       "\n",
       "    .dataframe tbody tr th {\n",
       "        vertical-align: top;\n",
       "    }\n",
       "\n",
       "    .dataframe thead th {\n",
       "        text-align: right;\n",
       "    }\n",
       "</style>\n",
       "<table border=\"1\" class=\"dataframe\">\n",
       "  <thead>\n",
       "    <tr style=\"text-align: right;\">\n",
       "      <th></th>\n",
       "      <th></th>\n",
       "      <th>counts</th>\n",
       "    </tr>\n",
       "    <tr>\n",
       "      <th>type</th>\n",
       "      <th>isFraud</th>\n",
       "      <th></th>\n",
       "    </tr>\n",
       "  </thead>\n",
       "  <tbody>\n",
       "    <tr>\n",
       "      <th>CASH_IN</th>\n",
       "      <th>0</th>\n",
       "      <td>1399284</td>\n",
       "    </tr>\n",
       "    <tr>\n",
       "      <th rowspan=\"2\" valign=\"top\">CASH_OUT</th>\n",
       "      <th>0</th>\n",
       "      <td>2233384</td>\n",
       "    </tr>\n",
       "    <tr>\n",
       "      <th>1</th>\n",
       "      <td>4116</td>\n",
       "    </tr>\n",
       "    <tr>\n",
       "      <th>DEBIT</th>\n",
       "      <th>0</th>\n",
       "      <td>41432</td>\n",
       "    </tr>\n",
       "    <tr>\n",
       "      <th>PAYMENT</th>\n",
       "      <th>0</th>\n",
       "      <td>2151495</td>\n",
       "    </tr>\n",
       "    <tr>\n",
       "      <th rowspan=\"2\" valign=\"top\">TRANSFER</th>\n",
       "      <th>0</th>\n",
       "      <td>528812</td>\n",
       "    </tr>\n",
       "    <tr>\n",
       "      <th>1</th>\n",
       "      <td>4097</td>\n",
       "    </tr>\n",
       "  </tbody>\n",
       "</table>\n",
       "</div>"
      ],
      "text/plain": [
       "                   counts\n",
       "type     isFraud         \n",
       "CASH_IN  0        1399284\n",
       "CASH_OUT 0        2233384\n",
       "         1           4116\n",
       "DEBIT    0          41432\n",
       "PAYMENT  0        2151495\n",
       "TRANSFER 0         528812\n",
       "         1           4097"
      ]
     },
     "execution_count": 16,
     "metadata": {},
     "output_type": "execute_result"
    }
   ],
   "source": [
    "out =data.groupby(['type'])['isFraud'].value_counts()\n",
    "froud  = pd.DataFrame(out)\n",
    "\n",
    "froud.columns = ['counts']\n",
    "froud\n",
    "\n",
    "# from the count values we have clear values that only those type of tranactions are in fraud list which\n",
    "#only done by using cash_out and transfer method"
   ]
  },
  {
   "cell_type": "code",
   "execution_count": 17,
   "id": "b2eba29b",
   "metadata": {
    "execution": {
     "iopub.execute_input": "2022-06-11T08:27:00.750085Z",
     "iopub.status.busy": "2022-06-11T08:27:00.749416Z",
     "iopub.status.idle": "2022-06-11T08:27:08.762559Z",
     "shell.execute_reply": "2022-06-11T08:27:08.762007Z",
     "shell.execute_reply.started": "2022-06-11T08:15:53.518565Z"
    },
    "papermill": {
     "duration": 8.739449,
     "end_time": "2022-06-11T08:27:08.762723",
     "exception": false,
     "start_time": "2022-06-11T08:27:00.023274",
     "status": "completed"
    },
    "tags": []
   },
   "outputs": [
    {
     "data": {
      "text/plain": [
       "<AxesSubplot:xlabel='type', ylabel='count'>"
      ]
     },
     "execution_count": 17,
     "metadata": {},
     "output_type": "execute_result"
    },
    {
     "data": {
      "image/png": "[encoded data removed]",
      "text/plain": [
       "<Figure size 432x288 with 1 Axes>"
      ]
     },
     "metadata": {
      "needs_background": "light"
     },
     "output_type": "display_data"
    }
   ],
   "source": [
    "sns.countplot(data['type'], hue = data['isFraud'])"
   ]
  },
  {
   "cell_type": "code",
   "execution_count": null,
   "id": "055e818c",
   "metadata": {
    "papermill": {
     "duration": 0.048688,
     "end_time": "2022-06-11T08:27:08.859819",
     "exception": false,
     "start_time": "2022-06-11T08:27:08.811131",
     "status": "completed"
    },
    "tags": []
   },
   "outputs": [],
   "source": []
  },
  {
   "cell_type": "code",
   "execution_count": 18,
   "id": "0bc4de4d",
   "metadata": {
    "execution": {
     "iopub.execute_input": "2022-06-11T08:27:08.961427Z",
     "iopub.status.busy": "2022-06-11T08:27:08.960722Z",
     "iopub.status.idle": "2022-06-11T08:27:08.964054Z",
     "shell.execute_reply": "2022-06-11T08:27:08.964572Z",
     "shell.execute_reply.started": "2022-06-11T08:16:02.839452Z"
    },
    "papermill": {
     "duration": 0.056272,
     "end_time": "2022-06-11T08:27:08.964739",
     "exception": false,
     "start_time": "2022-06-11T08:27:08.908467",
     "status": "completed"
    },
    "tags": []
   },
   "outputs": [],
   "source": [
    "#data['amount'] = (data['oldbalanceOrg'] - data['newbalanceOrig'])"
   ]
  },
  {
   "cell_type": "code",
   "execution_count": 19,
   "id": "85578e0d",
   "metadata": {
    "execution": {
     "iopub.execute_input": "2022-06-11T08:27:09.065304Z",
     "iopub.status.busy": "2022-06-11T08:27:09.064648Z",
     "iopub.status.idle": "2022-06-11T08:27:09.086015Z",
     "shell.execute_reply": "2022-06-11T08:27:09.086564Z",
     "shell.execute_reply.started": "2022-06-11T08:16:02.846212Z"
    },
    "papermill": {
     "duration": 0.07341,
     "end_time": "2022-06-11T08:27:09.086736",
     "exception": false,
     "start_time": "2022-06-11T08:27:09.013326",
     "status": "completed"
    },
    "tags": []
   },
   "outputs": [],
   "source": [
    "data.set_index('step',inplace =True) #setting index to step"
   ]
  },
  {
   "cell_type": "code",
   "execution_count": 20,
   "id": "1f87a4ad",
   "metadata": {
    "execution": {
     "iopub.execute_input": "2022-06-11T08:27:09.186846Z",
     "iopub.status.busy": "2022-06-11T08:27:09.186174Z",
     "iopub.status.idle": "2022-06-11T08:27:09.188862Z",
     "shell.execute_reply": "2022-06-11T08:27:09.189359Z",
     "shell.execute_reply.started": "2022-06-11T08:16:02.875761Z"
    },
    "papermill": {
     "duration": 0.054365,
     "end_time": "2022-06-11T08:27:09.189521",
     "exception": false,
     "start_time": "2022-06-11T08:27:09.135156",
     "status": "completed"
    },
    "tags": []
   },
   "outputs": [],
   "source": [
    "#data"
   ]
  },
  {
   "cell_type": "code",
   "execution_count": 21,
   "id": "0aabe025",
   "metadata": {
    "execution": {
     "iopub.execute_input": "2022-06-11T08:27:09.289224Z",
     "iopub.status.busy": "2022-06-11T08:27:09.288593Z",
     "iopub.status.idle": "2022-06-11T08:27:10.592596Z",
     "shell.execute_reply": "2022-06-11T08:27:10.593068Z",
     "shell.execute_reply.started": "2022-06-11T08:16:02.880498Z"
    },
    "papermill": {
     "duration": 1.355517,
     "end_time": "2022-06-11T08:27:10.593263",
     "exception": false,
     "start_time": "2022-06-11T08:27:09.237746",
     "status": "completed"
    },
    "tags": []
   },
   "outputs": [
    {
     "data": {
      "text/plain": [
       "[<matplotlib.lines.Line2D at 0x7fce63025550>]"
      ]
     },
     "execution_count": 21,
     "metadata": {},
     "output_type": "execute_result"
    },
    {
     "data": {
      "image/png": "[encoded data removed]",
      "text/plain": [
       "<Figure size 432x288 with 1 Axes>"
      ]
     },
     "metadata": {
      "needs_background": "light"
     },
     "output_type": "display_data"
    }
   ],
   "source": [
    "plt.plot(data['amount']) # checking how our amount data is distributed with each step"
   ]
  },
  {
   "cell_type": "code",
   "execution_count": 22,
   "id": "2ed80468",
   "metadata": {
    "execution": {
     "iopub.execute_input": "2022-06-11T08:27:10.699406Z",
     "iopub.status.busy": "2022-06-11T08:27:10.698691Z",
     "iopub.status.idle": "2022-06-11T08:27:13.503066Z",
     "shell.execute_reply": "2022-06-11T08:27:13.503577Z",
     "shell.execute_reply.started": "2022-06-11T08:16:04.170637Z"
    },
    "papermill": {
     "duration": 2.860503,
     "end_time": "2022-06-11T08:27:13.503765",
     "exception": false,
     "start_time": "2022-06-11T08:27:10.643262",
     "status": "completed"
    },
    "tags": []
   },
   "outputs": [],
   "source": [
    "value =data.groupby(['newbalanceOrig'])['isFraud'].value_counts()"
   ]
  },
  {
   "cell_type": "code",
   "execution_count": 23,
   "id": "f578ab93",
   "metadata": {
    "execution": {
     "iopub.execute_input": "2022-06-11T08:27:13.608888Z",
     "iopub.status.busy": "2022-06-11T08:27:13.608149Z",
     "iopub.status.idle": "2022-06-11T08:27:13.626622Z",
     "shell.execute_reply": "2022-06-11T08:27:13.627156Z",
     "shell.execute_reply.started": "2022-06-11T08:16:07.128772Z"
    },
    "papermill": {
     "duration": 0.07386,
     "end_time": "2022-06-11T08:27:13.627356",
     "exception": false,
     "start_time": "2022-06-11T08:27:13.553496",
     "status": "completed"
    },
    "tags": []
   },
   "outputs": [
    {
     "data": {
      "text/html": [
       "<div>\n",
       "<style scoped>\n",
       "    .dataframe tbody tr th:only-of-type {\n",
       "        vertical-align: middle;\n",
       "    }\n",
       "\n",
       "    .dataframe tbody tr th {\n",
       "        vertical-align: top;\n",
       "    }\n",
       "\n",
       "    .dataframe thead th {\n",
       "        text-align: right;\n",
       "    }\n",
       "</style>\n",
       "<table border=\"1\" class=\"dataframe\">\n",
       "  <thead>\n",
       "    <tr style=\"text-align: right;\">\n",
       "      <th></th>\n",
       "      <th></th>\n",
       "      <th>counts</th>\n",
       "    </tr>\n",
       "    <tr>\n",
       "      <th>newbalanceOrig</th>\n",
       "      <th>isFraud</th>\n",
       "      <th></th>\n",
       "    </tr>\n",
       "  </thead>\n",
       "  <tbody>\n",
       "    <tr>\n",
       "      <th rowspan=\"2\" valign=\"top\">0.00</th>\n",
       "      <th>0</th>\n",
       "      <td>3601513</td>\n",
       "    </tr>\n",
       "    <tr>\n",
       "      <th>1</th>\n",
       "      <td>8053</td>\n",
       "    </tr>\n",
       "    <tr>\n",
       "      <th>0.01</th>\n",
       "      <th>0</th>\n",
       "      <td>1</td>\n",
       "    </tr>\n",
       "    <tr>\n",
       "      <th>0.03</th>\n",
       "      <th>0</th>\n",
       "      <td>1</td>\n",
       "    </tr>\n",
       "    <tr>\n",
       "      <th>0.05</th>\n",
       "      <th>0</th>\n",
       "      <td>1</td>\n",
       "    </tr>\n",
       "    <tr>\n",
       "      <th>...</th>\n",
       "      <th>...</th>\n",
       "      <td>...</td>\n",
       "    </tr>\n",
       "    <tr>\n",
       "      <th>41690842.64</th>\n",
       "      <th>0</th>\n",
       "      <td>1</td>\n",
       "    </tr>\n",
       "    <tr>\n",
       "      <th>43673802.21</th>\n",
       "      <th>0</th>\n",
       "      <td>1</td>\n",
       "    </tr>\n",
       "    <tr>\n",
       "      <th>43686616.33</th>\n",
       "      <th>0</th>\n",
       "      <td>1</td>\n",
       "    </tr>\n",
       "    <tr>\n",
       "      <th>47316255.05</th>\n",
       "      <th>1</th>\n",
       "      <td>1</td>\n",
       "    </tr>\n",
       "    <tr>\n",
       "      <th>49585040.37</th>\n",
       "      <th>1</th>\n",
       "      <td>1</td>\n",
       "    </tr>\n",
       "  </tbody>\n",
       "</table>\n",
       "<p>2682587 rows × 1 columns</p>\n",
       "</div>"
      ],
      "text/plain": [
       "                         counts\n",
       "newbalanceOrig isFraud         \n",
       "0.00           0        3601513\n",
       "               1           8053\n",
       "0.01           0              1\n",
       "0.03           0              1\n",
       "0.05           0              1\n",
       "...                         ...\n",
       "41690842.64    0              1\n",
       "43673802.21    0              1\n",
       "43686616.33    0              1\n",
       "47316255.05    1              1\n",
       "49585040.37    1              1\n",
       "\n",
       "[2682587 rows x 1 columns]"
      ]
     },
     "execution_count": 23,
     "metadata": {},
     "output_type": "execute_result"
    }
   ],
   "source": [
    "value = pd.DataFrame(value)\n",
    "value.columns = ['counts']\n",
    "value\n",
    "\n",
    "# among the total of 8213 fraud transactions, in 8053 cases the whole amount is removed from the account, so if we see\n",
    "#such a transaction in whuch the user is trying to take out all his money via transfer or cash_out method\n",
    "#we can condider that, it could be a fraud transaction"
   ]
  },
  {
   "cell_type": "code",
   "execution_count": 24,
   "id": "c83bfc71",
   "metadata": {
    "execution": {
     "iopub.execute_input": "2022-06-11T08:27:13.731453Z",
     "iopub.status.busy": "2022-06-11T08:27:13.730747Z",
     "iopub.status.idle": "2022-06-11T08:27:13.867415Z",
     "shell.execute_reply": "2022-06-11T08:27:13.867902Z",
     "shell.execute_reply.started": "2022-06-11T08:16:07.154369Z"
    },
    "papermill": {
     "duration": 0.190678,
     "end_time": "2022-06-11T08:27:13.868087",
     "exception": false,
     "start_time": "2022-06-11T08:27:13.677409",
     "status": "completed"
    },
    "tags": []
   },
   "outputs": [],
   "source": [
    "# i am going to remove other two columns named ''oldbalanceDest'' and \"newbalanceDest\" because as mentioned it does not contain information for everyone\n",
    "# also we already have our required columns which are giving us good knowlegde of fraud transactions\n",
    "\n",
    "data = data.drop(['oldbalanceDest', 'newbalanceDest'], axis =1)"
   ]
  },
  {
   "cell_type": "code",
   "execution_count": 25,
   "id": "36db2e09",
   "metadata": {
    "execution": {
     "iopub.execute_input": "2022-06-11T08:27:14.090524Z",
     "iopub.status.busy": "2022-06-11T08:27:13.971739Z",
     "iopub.status.idle": "2022-06-11T08:27:14.636724Z",
     "shell.execute_reply": "2022-06-11T08:27:14.637221Z",
     "shell.execute_reply.started": "2022-06-11T08:16:07.296215Z"
    },
    "papermill": {
     "duration": 0.719472,
     "end_time": "2022-06-11T08:27:14.637404",
     "exception": false,
     "start_time": "2022-06-11T08:27:13.917932",
     "status": "completed"
    },
    "tags": []
   },
   "outputs": [],
   "source": [
    "dummy = pd.get_dummies(data['type'])\n",
    "#dummy"
   ]
  },
  {
   "cell_type": "code",
   "execution_count": 26,
   "id": "44485b65",
   "metadata": {
    "execution": {
     "iopub.execute_input": "2022-06-11T08:27:14.742339Z",
     "iopub.status.busy": "2022-06-11T08:27:14.741659Z",
     "iopub.status.idle": "2022-06-11T08:27:14.861282Z",
     "shell.execute_reply": "2022-06-11T08:27:14.860654Z",
     "shell.execute_reply.started": "2022-06-11T08:16:07.971152Z"
    },
    "papermill": {
     "duration": 0.173127,
     "end_time": "2022-06-11T08:27:14.861432",
     "exception": false,
     "start_time": "2022-06-11T08:27:14.688305",
     "status": "completed"
    },
    "tags": []
   },
   "outputs": [],
   "source": [
    "newdata = pd.concat([data,dummy],axis =1)"
   ]
  },
  {
   "cell_type": "code",
   "execution_count": 27,
   "id": "e4284cf5",
   "metadata": {
    "execution": {
     "iopub.execute_input": "2022-06-11T08:27:14.968975Z",
     "iopub.status.busy": "2022-06-11T08:27:14.968003Z",
     "iopub.status.idle": "2022-06-11T08:27:14.981841Z",
     "shell.execute_reply": "2022-06-11T08:27:14.982350Z",
     "shell.execute_reply.started": "2022-06-11T08:16:08.098064Z"
    },
    "papermill": {
     "duration": 0.071109,
     "end_time": "2022-06-11T08:27:14.982525",
     "exception": false,
     "start_time": "2022-06-11T08:27:14.911416",
     "status": "completed"
    },
    "tags": []
   },
   "outputs": [
    {
     "data": {
      "text/html": [
       "<div>\n",
       "<style scoped>\n",
       "    .dataframe tbody tr th:only-of-type {\n",
       "        vertical-align: middle;\n",
       "    }\n",
       "\n",
       "    .dataframe tbody tr th {\n",
       "        vertical-align: top;\n",
       "    }\n",
       "\n",
       "    .dataframe thead th {\n",
       "        text-align: right;\n",
       "    }\n",
       "</style>\n",
       "<table border=\"1\" class=\"dataframe\">\n",
       "  <thead>\n",
       "    <tr style=\"text-align: right;\">\n",
       "      <th></th>\n",
       "      <th>type</th>\n",
       "      <th>amount</th>\n",
       "      <th>oldbalanceOrg</th>\n",
       "      <th>newbalanceOrig</th>\n",
       "      <th>isFraud</th>\n",
       "      <th>CASH_IN</th>\n",
       "      <th>CASH_OUT</th>\n",
       "      <th>DEBIT</th>\n",
       "      <th>PAYMENT</th>\n",
       "      <th>TRANSFER</th>\n",
       "    </tr>\n",
       "    <tr>\n",
       "      <th>step</th>\n",
       "      <th></th>\n",
       "      <th></th>\n",
       "      <th></th>\n",
       "      <th></th>\n",
       "      <th></th>\n",
       "      <th></th>\n",
       "      <th></th>\n",
       "      <th></th>\n",
       "      <th></th>\n",
       "      <th></th>\n",
       "    </tr>\n",
       "  </thead>\n",
       "  <tbody>\n",
       "    <tr>\n",
       "      <th>1</th>\n",
       "      <td>PAYMENT</td>\n",
       "      <td>9839.64</td>\n",
       "      <td>170136.0</td>\n",
       "      <td>160296.36</td>\n",
       "      <td>0</td>\n",
       "      <td>0</td>\n",
       "      <td>0</td>\n",
       "      <td>0</td>\n",
       "      <td>1</td>\n",
       "      <td>0</td>\n",
       "    </tr>\n",
       "    <tr>\n",
       "      <th>1</th>\n",
       "      <td>PAYMENT</td>\n",
       "      <td>1864.28</td>\n",
       "      <td>21249.0</td>\n",
       "      <td>19384.72</td>\n",
       "      <td>0</td>\n",
       "      <td>0</td>\n",
       "      <td>0</td>\n",
       "      <td>0</td>\n",
       "      <td>1</td>\n",
       "      <td>0</td>\n",
       "    </tr>\n",
       "    <tr>\n",
       "      <th>1</th>\n",
       "      <td>TRANSFER</td>\n",
       "      <td>181.00</td>\n",
       "      <td>181.0</td>\n",
       "      <td>0.00</td>\n",
       "      <td>1</td>\n",
       "      <td>0</td>\n",
       "      <td>0</td>\n",
       "      <td>0</td>\n",
       "      <td>0</td>\n",
       "      <td>1</td>\n",
       "    </tr>\n",
       "    <tr>\n",
       "      <th>1</th>\n",
       "      <td>CASH_OUT</td>\n",
       "      <td>181.00</td>\n",
       "      <td>181.0</td>\n",
       "      <td>0.00</td>\n",
       "      <td>1</td>\n",
       "      <td>0</td>\n",
       "      <td>1</td>\n",
       "      <td>0</td>\n",
       "      <td>0</td>\n",
       "      <td>0</td>\n",
       "    </tr>\n",
       "    <tr>\n",
       "      <th>1</th>\n",
       "      <td>PAYMENT</td>\n",
       "      <td>11668.14</td>\n",
       "      <td>41554.0</td>\n",
       "      <td>29885.86</td>\n",
       "      <td>0</td>\n",
       "      <td>0</td>\n",
       "      <td>0</td>\n",
       "      <td>0</td>\n",
       "      <td>1</td>\n",
       "      <td>0</td>\n",
       "    </tr>\n",
       "  </tbody>\n",
       "</table>\n",
       "</div>"
      ],
      "text/plain": [
       "          type    amount  oldbalanceOrg  newbalanceOrig  isFraud  CASH_IN  \\\n",
       "step                                                                        \n",
       "1      PAYMENT   9839.64       170136.0       160296.36        0        0   \n",
       "1      PAYMENT   1864.28        21249.0        19384.72        0        0   \n",
       "1     TRANSFER    181.00          181.0            0.00        1        0   \n",
       "1     CASH_OUT    181.00          181.0            0.00        1        0   \n",
       "1      PAYMENT  11668.14        41554.0        29885.86        0        0   \n",
       "\n",
       "      CASH_OUT  DEBIT  PAYMENT  TRANSFER  \n",
       "step                                      \n",
       "1            0      0        1         0  \n",
       "1            0      0        1         0  \n",
       "1            0      0        0         1  \n",
       "1            1      0        0         0  \n",
       "1            0      0        1         0  "
      ]
     },
     "execution_count": 27,
     "metadata": {},
     "output_type": "execute_result"
    }
   ],
   "source": [
    "newdata.head()"
   ]
  },
  {
   "cell_type": "code",
   "execution_count": 28,
   "id": "3b89722e",
   "metadata": {
    "execution": {
     "iopub.execute_input": "2022-06-11T08:27:15.086281Z",
     "iopub.status.busy": "2022-06-11T08:27:15.085635Z",
     "iopub.status.idle": "2022-06-11T08:27:15.088519Z",
     "shell.execute_reply": "2022-06-11T08:27:15.089083Z",
     "shell.execute_reply.started": "2022-06-11T08:16:08.117006Z"
    },
    "papermill": {
     "duration": 0.056392,
     "end_time": "2022-06-11T08:27:15.089276",
     "exception": false,
     "start_time": "2022-06-11T08:27:15.032884",
     "status": "completed"
    },
    "tags": []
   },
   "outputs": [],
   "source": [
    "#newdata.groupby(['TRANSFER'])['isFraud'].value_counts()"
   ]
  },
  {
   "cell_type": "code",
   "execution_count": 29,
   "id": "91379dfd",
   "metadata": {
    "execution": {
     "iopub.execute_input": "2022-06-11T08:27:15.193318Z",
     "iopub.status.busy": "2022-06-11T08:27:15.192664Z",
     "iopub.status.idle": "2022-06-11T08:27:15.383568Z",
     "shell.execute_reply": "2022-06-11T08:27:15.384164Z",
     "shell.execute_reply.started": "2022-06-11T08:16:08.125220Z"
    },
    "papermill": {
     "duration": 0.244787,
     "end_time": "2022-06-11T08:27:15.384359",
     "exception": false,
     "start_time": "2022-06-11T08:27:15.139572",
     "status": "completed"
    },
    "tags": []
   },
   "outputs": [],
   "source": [
    "# dividing into dependent and independent variables\n",
    "\n",
    "x= newdata.drop(['isFraud'],axis =1)\n",
    "y = newdata.isFraud"
   ]
  },
  {
   "cell_type": "code",
   "execution_count": 30,
   "id": "44dc0df9",
   "metadata": {
    "execution": {
     "iopub.execute_input": "2022-06-11T08:27:15.491102Z",
     "iopub.status.busy": "2022-06-11T08:27:15.490465Z",
     "iopub.status.idle": "2022-06-11T08:27:15.592940Z",
     "shell.execute_reply": "2022-06-11T08:27:15.592320Z",
     "shell.execute_reply.started": "2022-06-11T08:16:08.327701Z"
    },
    "papermill": {
     "duration": 0.157524,
     "end_time": "2022-06-11T08:27:15.593103",
     "exception": false,
     "start_time": "2022-06-11T08:27:15.435579",
     "status": "completed"
    },
    "tags": []
   },
   "outputs": [],
   "source": [
    "x['PAYMENT']=x['PAYMENT'].astype('float32')\n",
    "x['DEBIT']=x['DEBIT'].astype('float32')\n",
    "x['CASH_OUT']=x['CASH_OUT'].astype('float32')\n",
    "x['CASH_IN']=x['CASH_IN'].astype('float32')\n",
    "x['TRANSFER']=x['TRANSFER'].astype('float32')"
   ]
  },
  {
   "cell_type": "code",
   "execution_count": 31,
   "id": "56e5cc08",
   "metadata": {
    "execution": {
     "iopub.execute_input": "2022-06-11T08:27:15.699923Z",
     "iopub.status.busy": "2022-06-11T08:27:15.699241Z",
     "iopub.status.idle": "2022-06-11T08:27:15.935910Z",
     "shell.execute_reply": "2022-06-11T08:27:15.935341Z",
     "shell.execute_reply.started": "2022-06-11T08:16:08.440476Z"
    },
    "papermill": {
     "duration": 0.292579,
     "end_time": "2022-06-11T08:27:15.936047",
     "exception": false,
     "start_time": "2022-06-11T08:27:15.643468",
     "status": "completed"
    },
    "tags": []
   },
   "outputs": [],
   "source": [
    "x=x.drop(['type'],axis =1)"
   ]
  },
  {
   "cell_type": "code",
   "execution_count": 32,
   "id": "5fa19394",
   "metadata": {
    "execution": {
     "iopub.execute_input": "2022-06-11T08:27:16.045638Z",
     "iopub.status.busy": "2022-06-11T08:27:16.044943Z",
     "iopub.status.idle": "2022-06-11T08:27:16.866738Z",
     "shell.execute_reply": "2022-06-11T08:27:16.866129Z",
     "shell.execute_reply.started": "2022-06-11T08:16:08.682482Z"
    },
    "papermill": {
     "duration": 0.879272,
     "end_time": "2022-06-11T08:27:16.866877",
     "exception": false,
     "start_time": "2022-06-11T08:27:15.987605",
     "status": "completed"
    },
    "tags": []
   },
   "outputs": [],
   "source": [
    "#scaling the features\n",
    "\n",
    "from sklearn.preprocessing import MinMaxScaler\n",
    "minmax = MinMaxScaler(feature_range=(0,1))\n",
    "x=minmax.fit_transform(x)"
   ]
  },
  {
   "cell_type": "code",
   "execution_count": 33,
   "id": "4f56445d",
   "metadata": {
    "execution": {
     "iopub.execute_input": "2022-06-11T08:27:16.975221Z",
     "iopub.status.busy": "2022-06-11T08:27:16.973092Z",
     "iopub.status.idle": "2022-06-11T08:27:18.355500Z",
     "shell.execute_reply": "2022-06-11T08:27:18.354874Z",
     "shell.execute_reply.started": "2022-06-11T08:16:09.420676Z"
    },
    "papermill": {
     "duration": 1.438139,
     "end_time": "2022-06-11T08:27:18.355647",
     "exception": false,
     "start_time": "2022-06-11T08:27:16.917508",
     "status": "completed"
    },
    "tags": []
   },
   "outputs": [],
   "source": [
    "x_train,x_test,y_train,y_test = train_test_split(x,y,test_size = 0.40,random_state =42)"
   ]
  },
  {
   "cell_type": "code",
   "execution_count": 34,
   "id": "d2b3d5a9",
   "metadata": {
    "execution": {
     "iopub.execute_input": "2022-06-11T08:27:18.462148Z",
     "iopub.status.busy": "2022-06-11T08:27:18.461271Z",
     "iopub.status.idle": "2022-06-11T08:27:18.465135Z",
     "shell.execute_reply": "2022-06-11T08:27:18.464654Z",
     "shell.execute_reply.started": "2022-06-11T08:16:10.704907Z"
    },
    "papermill": {
     "duration": 0.058895,
     "end_time": "2022-06-11T08:27:18.465303",
     "exception": false,
     "start_time": "2022-06-11T08:27:18.406408",
     "status": "completed"
    },
    "tags": []
   },
   "outputs": [
    {
     "data": {
      "text/plain": [
       "(3817572, 8)"
      ]
     },
     "execution_count": 34,
     "metadata": {},
     "output_type": "execute_result"
    }
   ],
   "source": [
    "x_train.shape"
   ]
  },
  {
   "cell_type": "code",
   "execution_count": 35,
   "id": "eedafa61",
   "metadata": {
    "execution": {
     "iopub.execute_input": "2022-06-11T08:27:18.575899Z",
     "iopub.status.busy": "2022-06-11T08:27:18.571531Z",
     "iopub.status.idle": "2022-06-11T08:27:52.273433Z",
     "shell.execute_reply": "2022-06-11T08:27:52.274284Z",
     "shell.execute_reply.started": "2022-06-11T08:16:10.713201Z"
    },
    "papermill": {
     "duration": 33.758837,
     "end_time": "2022-06-11T08:27:52.274579",
     "exception": false,
     "start_time": "2022-06-11T08:27:18.515742",
     "status": "completed"
    },
    "tags": []
   },
   "outputs": [
    {
     "data": {
      "text/plain": [
       "LogisticRegression()"
      ]
     },
     "execution_count": 35,
     "metadata": {},
     "output_type": "execute_result"
    }
   ],
   "source": [
    "model = LogisticRegression()\n",
    "model.fit(x_train,y_train)"
   ]
  },
  {
   "cell_type": "code",
   "execution_count": 36,
   "id": "79704413",
   "metadata": {
    "execution": {
     "iopub.execute_input": "2022-06-11T08:27:52.386521Z",
     "iopub.status.busy": "2022-06-11T08:27:52.385379Z",
     "iopub.status.idle": "2022-06-11T08:27:52.730536Z",
     "shell.execute_reply": "2022-06-11T08:27:52.732005Z",
     "shell.execute_reply.started": "2022-06-11T08:16:42.426445Z"
    },
    "papermill": {
     "duration": 0.401523,
     "end_time": "2022-06-11T08:27:52.732306",
     "exception": false,
     "start_time": "2022-06-11T08:27:52.330783",
     "status": "completed"
    },
    "tags": []
   },
   "outputs": [
    {
     "name": "stdout",
     "output_type": "stream",
     "text": [
      "model score  0.9988027730714706\n"
     ]
    }
   ],
   "source": [
    "print('model score ',model.score(x_test,y_test))\n",
    "predict = model.predict(x_test)"
   ]
  },
  {
   "cell_type": "code",
   "execution_count": 37,
   "id": "43a3700d",
   "metadata": {
    "execution": {
     "iopub.execute_input": "2022-06-11T08:27:52.883437Z",
     "iopub.status.busy": "2022-06-11T08:27:52.881174Z",
     "iopub.status.idle": "2022-06-11T08:30:57.091929Z",
     "shell.execute_reply": "2022-06-11T08:30:57.092528Z",
     "shell.execute_reply.started": "2022-06-11T08:16:42.752536Z"
    },
    "papermill": {
     "duration": 184.26933,
     "end_time": "2022-06-11T08:30:57.092719",
     "exception": false,
     "start_time": "2022-06-11T08:27:52.823389",
     "status": "completed"
    },
    "tags": []
   },
   "outputs": [
    {
     "name": "stdout",
     "output_type": "stream",
     "text": [
      "cross val score  0.9987580587871034\n"
     ]
    }
   ],
   "source": [
    "cross_val = cross_val_score(model,x,y,cv=4)\n",
    "print('cross val score ',np.mean(cross_val))"
   ]
  },
  {
   "cell_type": "code",
   "execution_count": 38,
   "id": "e29a0d22",
   "metadata": {
    "execution": {
     "iopub.execute_input": "2022-06-11T08:30:57.201516Z",
     "iopub.status.busy": "2022-06-11T08:30:57.200839Z",
     "iopub.status.idle": "2022-06-11T08:31:00.348050Z",
     "shell.execute_reply": "2022-06-11T08:31:00.347174Z",
     "shell.execute_reply.started": "2022-06-11T08:19:28.163272Z"
    },
    "papermill": {
     "duration": 3.203904,
     "end_time": "2022-06-11T08:31:00.348259",
     "exception": false,
     "start_time": "2022-06-11T08:30:57.144355",
     "status": "completed"
    },
    "tags": []
   },
   "outputs": [
    {
     "name": "stdout",
     "output_type": "stream",
     "text": [
      "              precision    recall  f1-score   support\n",
      "\n",
      "           0       1.00      1.00      1.00   2541782\n",
      "           1       0.97      0.07      0.13      3266\n",
      "\n",
      "    accuracy                           1.00   2545048\n",
      "   macro avg       0.99      0.53      0.56   2545048\n",
      "weighted avg       1.00      1.00      1.00   2545048\n",
      "\n"
     ]
    }
   ],
   "source": [
    "print(metrics.classification_report(y_test,predict))"
   ]
  },
  {
   "cell_type": "code",
   "execution_count": 39,
   "id": "6a0ef988",
   "metadata": {
    "execution": {
     "iopub.execute_input": "2022-06-11T08:31:00.458784Z",
     "iopub.status.busy": "2022-06-11T08:31:00.457826Z",
     "iopub.status.idle": "2022-06-11T08:31:00.462903Z",
     "shell.execute_reply": "2022-06-11T08:31:00.463510Z",
     "shell.execute_reply.started": "2022-06-11T08:19:31.245017Z"
    },
    "papermill": {
     "duration": 0.061294,
     "end_time": "2022-06-11T08:31:00.463672",
     "exception": false,
     "start_time": "2022-06-11T08:31:00.402378",
     "status": "completed"
    },
    "tags": []
   },
   "outputs": [
    {
     "data": {
      "text/plain": [
       "\"from sklearn.model_selection import GridSearchCV\\n\\nc_space = np.logspace(-5, 8, 15)\\nparam_grid = {'C': c_space}\\n\\nlogreg_cv = GridSearchCV(model, param_grid, cv = 4)\\nlogreg_cv.fit(x, y) \""
      ]
     },
     "execution_count": 39,
     "metadata": {},
     "output_type": "execute_result"
    }
   ],
   "source": [
    "'''from sklearn.model_selection import GridSearchCV\n",
    "\n",
    "c_space = np.logspace(-5, 8, 15)\n",
    "param_grid = {'C': c_space}\n",
    "\n",
    "logreg_cv = GridSearchCV(model, param_grid, cv = 4)\n",
    "logreg_cv.fit(x, y) '''\n",
    "\n",
    "#not going for hyperpaameter tuning beacuse we already have 99%-100% accuracy"
   ]
  },
  {
   "cell_type": "code",
   "execution_count": 40,
   "id": "e7a249b6",
   "metadata": {
    "execution": {
     "iopub.execute_input": "2022-06-11T08:31:00.573142Z",
     "iopub.status.busy": "2022-06-11T08:31:00.572201Z",
     "iopub.status.idle": "2022-06-11T08:31:00.593113Z",
     "shell.execute_reply": "2022-06-11T08:31:00.593663Z",
     "shell.execute_reply.started": "2022-06-11T08:19:31.254083Z"
    },
    "papermill": {
     "duration": 0.077127,
     "end_time": "2022-06-11T08:31:00.593829",
     "exception": false,
     "start_time": "2022-06-11T08:31:00.516702",
     "status": "completed"
    },
    "tags": []
   },
   "outputs": [
    {
     "data": {
      "text/html": [
       "<div>\n",
       "<style scoped>\n",
       "    .dataframe tbody tr th:only-of-type {\n",
       "        vertical-align: middle;\n",
       "    }\n",
       "\n",
       "    .dataframe tbody tr th {\n",
       "        vertical-align: top;\n",
       "    }\n",
       "\n",
       "    .dataframe thead th {\n",
       "        text-align: right;\n",
       "    }\n",
       "</style>\n",
       "<table border=\"1\" class=\"dataframe\">\n",
       "  <thead>\n",
       "    <tr style=\"text-align: right;\">\n",
       "      <th></th>\n",
       "      <th>isFraud</th>\n",
       "      <th>predict</th>\n",
       "      <th>actual</th>\n",
       "    </tr>\n",
       "    <tr>\n",
       "      <th>step</th>\n",
       "      <th></th>\n",
       "      <th></th>\n",
       "      <th></th>\n",
       "    </tr>\n",
       "  </thead>\n",
       "  <tbody>\n",
       "    <tr>\n",
       "      <th>278</th>\n",
       "      <td>0</td>\n",
       "      <td>0</td>\n",
       "      <td>0</td>\n",
       "    </tr>\n",
       "    <tr>\n",
       "      <th>15</th>\n",
       "      <td>0</td>\n",
       "      <td>0</td>\n",
       "      <td>0</td>\n",
       "    </tr>\n",
       "    <tr>\n",
       "      <th>10</th>\n",
       "      <td>0</td>\n",
       "      <td>0</td>\n",
       "      <td>0</td>\n",
       "    </tr>\n",
       "    <tr>\n",
       "      <th>403</th>\n",
       "      <td>0</td>\n",
       "      <td>0</td>\n",
       "      <td>0</td>\n",
       "    </tr>\n",
       "    <tr>\n",
       "      <th>206</th>\n",
       "      <td>0</td>\n",
       "      <td>0</td>\n",
       "      <td>0</td>\n",
       "    </tr>\n",
       "  </tbody>\n",
       "</table>\n",
       "</div>"
      ],
      "text/plain": [
       "      isFraud  predict  actual\n",
       "step                          \n",
       "278         0        0       0\n",
       "15          0        0       0\n",
       "10          0        0       0\n",
       "403         0        0       0\n",
       "206         0        0       0"
      ]
     },
     "execution_count": 40,
     "metadata": {},
     "output_type": "execute_result"
    }
   ],
   "source": [
    "final_data = pd.DataFrame(y_test)\n",
    "final_data['predict'] = predict\n",
    "final_data['actual']  = y_test\n",
    "final_data.head()"
   ]
  },
  {
   "cell_type": "code",
   "execution_count": 41,
   "id": "7a577e2e",
   "metadata": {
    "execution": {
     "iopub.execute_input": "2022-06-11T08:31:00.703698Z",
     "iopub.status.busy": "2022-06-11T08:31:00.702728Z",
     "iopub.status.idle": "2022-06-11T08:31:00.707762Z",
     "shell.execute_reply": "2022-06-11T08:31:00.708354Z",
     "shell.execute_reply.started": "2022-06-11T08:19:31.283600Z"
    },
    "papermill": {
     "duration": 0.061859,
     "end_time": "2022-06-11T08:31:00.708517",
     "exception": false,
     "start_time": "2022-06-11T08:31:00.646658",
     "status": "completed"
    },
    "tags": []
   },
   "outputs": [
    {
     "data": {
      "text/plain": [
       "'l=[]\\nfor i in range(100):\\n    z=(x[i], predict[i])\\n    l.append(z)\\npd.DataFrame(l) '"
      ]
     },
     "execution_count": 41,
     "metadata": {},
     "output_type": "execute_result"
    }
   ],
   "source": [
    "# if someone wants to see features and predicted value \n",
    "\n",
    "'''l=[]\n",
    "for i in range(100):\n",
    "    z=(x[i], predict[i])\n",
    "    l.append(z)\n",
    "pd.DataFrame(l) '''"
   ]
  },
  {
   "cell_type": "code",
   "execution_count": 42,
   "id": "8d8a6c56",
   "metadata": {
    "execution": {
     "iopub.execute_input": "2022-06-11T08:31:00.820256Z",
     "iopub.status.busy": "2022-06-11T08:31:00.819177Z",
     "iopub.status.idle": "2022-06-11T08:31:00.822719Z",
     "shell.execute_reply": "2022-06-11T08:31:00.823356Z",
     "shell.execute_reply.started": "2022-06-11T08:19:31.289908Z"
    },
    "papermill": {
     "duration": 0.061828,
     "end_time": "2022-06-11T08:31:00.823532",
     "exception": false,
     "start_time": "2022-06-11T08:31:00.761704",
     "status": "completed"
    },
    "tags": []
   },
   "outputs": [],
   "source": [
    "#model.predict([x_test[0]])"
   ]
  },
  {
   "cell_type": "code",
   "execution_count": 43,
   "id": "e30f537c",
   "metadata": {
    "execution": {
     "iopub.execute_input": "2022-06-11T08:31:00.935656Z",
     "iopub.status.busy": "2022-06-11T08:31:00.934638Z",
     "iopub.status.idle": "2022-06-11T08:31:00.952913Z",
     "shell.execute_reply": "2022-06-11T08:31:00.953470Z",
     "shell.execute_reply.started": "2022-06-11T08:19:31.301573Z"
    },
    "papermill": {
     "duration": 0.076126,
     "end_time": "2022-06-11T08:31:00.953635",
     "exception": false,
     "start_time": "2022-06-11T08:31:00.877509",
     "status": "completed"
    },
    "tags": []
   },
   "outputs": [
    {
     "data": {
      "text/plain": [
       "0    2541782\n",
       "1       3266\n",
       "Name: isFraud, dtype: int64"
      ]
     },
     "execution_count": 43,
     "metadata": {},
     "output_type": "execute_result"
    }
   ],
   "source": [
    "y_test.value_counts()"
   ]
  },
  {
   "cell_type": "code",
   "execution_count": 44,
   "id": "ca6cf2bd",
   "metadata": {
    "execution": {
     "iopub.execute_input": "2022-06-11T08:31:01.065570Z",
     "iopub.status.busy": "2022-06-11T08:31:01.064607Z",
     "iopub.status.idle": "2022-06-11T08:31:01.067757Z",
     "shell.execute_reply": "2022-06-11T08:31:01.068367Z",
     "shell.execute_reply.started": "2022-06-11T08:19:31.327036Z"
    },
    "papermill": {
     "duration": 0.061289,
     "end_time": "2022-06-11T08:31:01.068543",
     "exception": false,
     "start_time": "2022-06-11T08:31:01.007254",
     "status": "completed"
    },
    "tags": []
   },
   "outputs": [],
   "source": [
    "#confusion matrix"
   ]
  },
  {
   "cell_type": "code",
   "execution_count": 45,
   "id": "a795c768",
   "metadata": {
    "execution": {
     "iopub.execute_input": "2022-06-11T08:31:01.179131Z",
     "iopub.status.busy": "2022-06-11T08:31:01.178229Z",
     "iopub.status.idle": "2022-06-11T08:31:04.558559Z",
     "shell.execute_reply": "2022-06-11T08:31:04.558044Z",
     "shell.execute_reply.started": "2022-06-11T08:19:31.335992Z"
    },
    "papermill": {
     "duration": 3.436415,
     "end_time": "2022-06-11T08:31:04.558698",
     "exception": false,
     "start_time": "2022-06-11T08:31:01.122283",
     "status": "completed"
    },
    "tags": []
   },
   "outputs": [
    {
     "data": {
      "text/plain": [
       "array([[2541776,       6],\n",
       "       [   3041,     225]])"
      ]
     },
     "execution_count": 45,
     "metadata": {},
     "output_type": "execute_result"
    }
   ],
   "source": [
    "conf_matrix = confusion_matrix(y_test,predict)\n",
    "conf_matrix"
   ]
  },
  {
   "cell_type": "code",
   "execution_count": 46,
   "id": "e1f09df2",
   "metadata": {
    "execution": {
     "iopub.execute_input": "2022-06-11T08:31:04.678772Z",
     "iopub.status.busy": "2022-06-11T08:31:04.678096Z",
     "iopub.status.idle": "2022-06-11T08:31:04.881527Z",
     "shell.execute_reply": "2022-06-11T08:31:04.880604Z",
     "shell.execute_reply.started": "2022-06-11T08:19:34.691039Z"
    },
    "papermill": {
     "duration": 0.269063,
     "end_time": "2022-06-11T08:31:04.881679",
     "exception": false,
     "start_time": "2022-06-11T08:31:04.612616",
     "status": "completed"
    },
    "tags": []
   },
   "outputs": [
    {
     "data": {
      "text/plain": [
       "<AxesSubplot:>"
      ]
     },
     "execution_count": 46,
     "metadata": {},
     "output_type": "execute_result"
    },
    {
     "data": {
      "image/png": "[encoded data removed]",
      "text/plain": [
       "<Figure size 432x288 with 2 Axes>"
      ]
     },
     "metadata": {
      "needs_background": "light"
     },
     "output_type": "display_data"
    }
   ],
   "source": [
    "sns.heatmap(conf_matrix, annot =True,fmt='',cmap = 'Blues')"
   ]
  },
  {
   "cell_type": "code",
   "execution_count": 47,
   "id": "fa0df9ac",
   "metadata": {
    "execution": {
     "iopub.execute_input": "2022-06-11T08:31:04.995594Z",
     "iopub.status.busy": "2022-06-11T08:31:04.994640Z",
     "iopub.status.idle": "2022-06-11T08:31:57.308632Z",
     "shell.execute_reply": "2022-06-11T08:31:57.309224Z",
     "shell.execute_reply.started": "2022-06-11T08:19:34.902337Z"
    },
    "papermill": {
     "duration": 52.373207,
     "end_time": "2022-06-11T08:31:57.309560",
     "exception": false,
     "start_time": "2022-06-11T08:31:04.936353",
     "status": "completed"
    },
    "tags": []
   },
   "outputs": [
    {
     "data": {
      "text/plain": [
       "<AxesSubplot:xlabel='amount', ylabel='isFraud'>"
      ]
     },
     "execution_count": 47,
     "metadata": {},
     "output_type": "execute_result"
    },
    {
     "data": {
      "image/png": "[encoded data removed]",
      "text/plain": [
       "<Figure size 432x288 with 1 Axes>"
      ]
     },
     "metadata": {
      "needs_background": "light"
     },
     "output_type": "display_data"
    }
   ],
   "source": [
    "sns.regplot(x=data['amount'], y=y, data=data, logistic=True, ci=None)"
   ]
  },
  {
   "cell_type": "code",
   "execution_count": 48,
   "id": "00249243",
   "metadata": {
    "execution": {
     "iopub.execute_input": "2022-06-11T08:31:57.426335Z",
     "iopub.status.busy": "2022-06-11T08:31:57.425278Z",
     "iopub.status.idle": "2022-06-11T08:31:57.555309Z",
     "shell.execute_reply": "2022-06-11T08:31:57.555786Z",
     "shell.execute_reply.started": "2022-06-11T08:21:24.513198Z"
    },
    "papermill": {
     "duration": 0.190171,
     "end_time": "2022-06-11T08:31:57.555959",
     "exception": false,
     "start_time": "2022-06-11T08:31:57.365788",
     "status": "completed"
    },
    "tags": []
   },
   "outputs": [
    {
     "data": {
      "text/html": [
       "<div>\n",
       "<style scoped>\n",
       "    .dataframe tbody tr th:only-of-type {\n",
       "        vertical-align: middle;\n",
       "    }\n",
       "\n",
       "    .dataframe tbody tr th {\n",
       "        vertical-align: top;\n",
       "    }\n",
       "\n",
       "    .dataframe thead th {\n",
       "        text-align: right;\n",
       "    }\n",
       "</style>\n",
       "<table border=\"1\" class=\"dataframe\">\n",
       "  <thead>\n",
       "    <tr style=\"text-align: right;\">\n",
       "      <th></th>\n",
       "      <th>amount</th>\n",
       "      <th>oldbalanceOrg</th>\n",
       "      <th>newbalanceOrig</th>\n",
       "      <th>CASH_IN</th>\n",
       "      <th>CASH_OUT</th>\n",
       "      <th>DEBIT</th>\n",
       "      <th>PAYMENT</th>\n",
       "      <th>TRANSFER</th>\n",
       "    </tr>\n",
       "    <tr>\n",
       "      <th>step</th>\n",
       "      <th></th>\n",
       "      <th></th>\n",
       "      <th></th>\n",
       "      <th></th>\n",
       "      <th></th>\n",
       "      <th></th>\n",
       "      <th></th>\n",
       "      <th></th>\n",
       "    </tr>\n",
       "  </thead>\n",
       "  <tbody>\n",
       "    <tr>\n",
       "      <th>1</th>\n",
       "      <td>9839.64</td>\n",
       "      <td>170136.0</td>\n",
       "      <td>160296.36</td>\n",
       "      <td>0</td>\n",
       "      <td>0</td>\n",
       "      <td>0</td>\n",
       "      <td>1</td>\n",
       "      <td>0</td>\n",
       "    </tr>\n",
       "  </tbody>\n",
       "</table>\n",
       "</div>"
      ],
      "text/plain": [
       "       amount  oldbalanceOrg  newbalanceOrig  CASH_IN  CASH_OUT  DEBIT  \\\n",
       "step                                                                     \n",
       "1     9839.64       170136.0       160296.36        0         0      0   \n",
       "\n",
       "      PAYMENT  TRANSFER  \n",
       "step                     \n",
       "1           1         0  "
      ]
     },
     "execution_count": 48,
     "metadata": {},
     "output_type": "execute_result"
    }
   ],
   "source": [
    "newdata =newdata.drop(['type','isFraud'],axis =1)\n",
    "newdata.head(1)"
   ]
  },
  {
   "cell_type": "code",
   "execution_count": 49,
   "id": "2a2f40ee",
   "metadata": {
    "execution": {
     "iopub.execute_input": "2022-06-11T08:31:57.672532Z",
     "iopub.status.busy": "2022-06-11T08:31:57.671493Z",
     "iopub.status.idle": "2022-06-11T08:31:57.675497Z",
     "shell.execute_reply": "2022-06-11T08:31:57.676017Z",
     "shell.execute_reply.started": "2022-06-11T08:21:41.029495Z"
    },
    "papermill": {
     "duration": 0.063808,
     "end_time": "2022-06-11T08:31:57.676177",
     "exception": false,
     "start_time": "2022-06-11T08:31:57.612369",
     "status": "completed"
    },
    "tags": []
   },
   "outputs": [],
   "source": [
    "importance = model.coef_\n",
    "importance =importance.reshape(-1,1)"
   ]
  },
  {
   "cell_type": "code",
   "execution_count": 50,
   "id": "30f3190b",
   "metadata": {
    "execution": {
     "iopub.execute_input": "2022-06-11T08:31:57.794233Z",
     "iopub.status.busy": "2022-06-11T08:31:57.793216Z",
     "iopub.status.idle": "2022-06-11T08:31:57.800609Z",
     "shell.execute_reply": "2022-06-11T08:31:57.801395Z",
     "shell.execute_reply.started": "2022-06-11T08:21:54.936753Z"
    },
    "papermill": {
     "duration": 0.068959,
     "end_time": "2022-06-11T08:31:57.801618",
     "exception": false,
     "start_time": "2022-06-11T08:31:57.732659",
     "status": "completed"
    },
    "tags": []
   },
   "outputs": [
    {
     "name": "stdout",
     "output_type": "stream",
     "text": [
      "Feature: 0, Score: 5.70295\n",
      "Feature: 1, Score: 51.85605\n",
      "Feature: 2, Score: -15.79511\n",
      "Feature: 3, Score: -9.19793\n",
      "Feature: 4, Score: 7.05178\n",
      "Feature: 5, Score: -0.04609\n",
      "Feature: 6, Score: -6.14880\n",
      "Feature: 7, Score: 8.38732\n"
     ]
    }
   ],
   "source": [
    "for i,v in enumerate(importance):\n",
    "    print('Feature: %0d, Score: %.5f' % (i,v))\n",
    "    \n",
    "# hence we can say we have oldbalanceOrig is the most important feature"
   ]
  }
 ],
 "metadata": {
  "kernelspec": {
   "display_name": "Python 3",
   "language": "python",
   "name": "python3"
  },
  "language_info": {
   "codemirror_mode": {
    "name": "ipython",
    "version": 3
   },
   "file_extension": ".py",
   "mimetype": "text/x-python",
   "name": "python",
   "nbconvert_exporter": "python",
   "pygments_lexer": "ipython3",
   "version": "3.7.10"
  },
  "papermill": {
   "default_parameters": {},
   "duration": 344.936858,
   "end_time": "2022-06-11T08:32:00.064297",
   "environment_variables": {},
   "exception": null,
   "input_path": "__notebook__.ipynb",
   "output_path": "__notebook__.ipynb",
   "parameters": {},
   "start_time": "2022-06-11T08:26:15.127439",
   "version": "2.3.3"
  }
 },
 "nbformat": 4,
 "nbformat_minor": 5
}
